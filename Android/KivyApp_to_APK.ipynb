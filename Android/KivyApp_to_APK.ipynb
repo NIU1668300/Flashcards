{
  "cells": [
    {
      "cell_type": "code",
      "execution_count": 1,
      "metadata": {
        "id": "Yzg0jnV7dHTp"
      },
      "outputs": [
        {
          "name": "stdout",
          "output_type": "stream",
          "text": [
            "Collecting buildozer\n",
            "  Downloading buildozer-1.5.0-py3-none-any.whl (86 kB)\n",
            "     ---------------------------------------- 0.0/86.9 kB ? eta -:--:--\n",
            "     ---------------------------------------- 86.9/86.9 kB 5.1 MB/s eta 0:00:00\n",
            "Collecting sh\n",
            "  Downloading sh-2.0.6-py3-none-any.whl (38 kB)\n",
            "Collecting virtualenv\n",
            "  Downloading virtualenv-20.25.0-py3-none-any.whl (3.8 MB)\n",
            "     ---------------------------------------- 0.0/3.8 MB ? eta -:--:--\n",
            "     ---- ----------------------------------- 0.5/3.8 MB 14.5 MB/s eta 0:00:01\n",
            "     ---------- ----------------------------- 1.0/3.8 MB 12.7 MB/s eta 0:00:01\n",
            "     -------------- ------------------------- 1.4/3.8 MB 12.7 MB/s eta 0:00:01\n",
            "     ---------------------- ----------------- 2.1/3.8 MB 12.1 MB/s eta 0:00:01\n",
            "     ---------------------------- ----------- 2.7/3.8 MB 12.1 MB/s eta 0:00:01\n",
            "     --------------------------------- ------ 3.2/3.8 MB 12.0 MB/s eta 0:00:01\n",
            "     ---------------------------------------  3.8/3.8 MB 12.0 MB/s eta 0:00:01\n",
            "     ---------------------------------------- 3.8/3.8 MB 11.5 MB/s eta 0:00:00\n",
            "Collecting pexpect\n",
            "  Downloading pexpect-4.9.0-py2.py3-none-any.whl (63 kB)\n",
            "     ---------------------------------------- 0.0/63.8 kB ? eta -:--:--\n",
            "     ---------------------------------------- 63.8/63.8 kB 3.3 MB/s eta 0:00:00\n",
            "Collecting ptyprocess>=0.5\n",
            "  Downloading ptyprocess-0.7.0-py2.py3-none-any.whl (13 kB)\n",
            "Collecting filelock<4,>=3.12.2\n",
            "  Downloading filelock-3.13.1-py3-none-any.whl (11 kB)\n",
            "Requirement already satisfied: platformdirs<5,>=3.9.1 in c:\\users\\vmarc\\appdata\\local\\packages\\pythonsoftwarefoundation.python.3.10_qbz5n2kfra8p0\\localcache\\local-packages\\python310\\site-packages (from virtualenv->buildozer) (4.1.0)\n",
            "Collecting distlib<1,>=0.3.7\n",
            "  Downloading distlib-0.3.8-py2.py3-none-any.whl (468 kB)\n",
            "     ---------------------------------------- 0.0/468.9 kB ? eta -:--:--\n",
            "     ---------------------------------- -- 440.3/468.9 kB 13.9 MB/s eta 0:00:01\n",
            "     -------------------------------------- 468.9/468.9 kB 9.8 MB/s eta 0:00:00\n",
            "Installing collected packages: ptyprocess, distlib, sh, pexpect, filelock, virtualenv, buildozer\n",
            "Successfully installed buildozer-1.5.0 distlib-0.3.8 filelock-3.13.1 pexpect-4.9.0 ptyprocess-0.7.0 sh-2.0.6 virtualenv-20.25.0\n"
          ]
        },
        {
          "name": "stderr",
          "output_type": "stream",
          "text": [
            "\n",
            "[notice] A new release of pip is available: 23.0.1 -> 23.3.2\n",
            "[notice] To update, run: C:\\Users\\vmarc\\AppData\\Local\\Microsoft\\WindowsApps\\PythonSoftwareFoundation.Python.3.10_qbz5n2kfra8p0\\python.exe -m pip install --upgrade pip\n"
          ]
        }
      ],
      "source": [
        "!pip install buildozer"
      ]
    },
    {
      "cell_type": "code",
      "execution_count": 2,
      "metadata": {
        "id": "XX3isEFydNar"
      },
      "outputs": [
        {
          "name": "stdout",
          "output_type": "stream",
          "text": [
            "Collecting cython==0.29.19\n",
            "  Downloading Cython-0.29.19-py2.py3-none-any.whl (971 kB)\n",
            "     ---------------------------------------- 0.0/971.9 kB ? eta -:--:--\n",
            "     ------------ ------------------------- 317.4/971.9 kB 9.9 MB/s eta 0:00:01\n",
            "     -------------------------------- ---- 860.2/971.9 kB 10.9 MB/s eta 0:00:01\n",
            "     ------------------------------------- 971.9/971.9 kB 10.3 MB/s eta 0:00:00\n",
            "Installing collected packages: cython\n",
            "Successfully installed cython-0.29.19\n"
          ]
        },
        {
          "name": "stderr",
          "output_type": "stream",
          "text": [
            "\n",
            "[notice] A new release of pip is available: 23.0.1 -> 23.3.2\n",
            "[notice] To update, run: C:\\Users\\vmarc\\AppData\\Local\\Microsoft\\WindowsApps\\PythonSoftwareFoundation.Python.3.10_qbz5n2kfra8p0\\python.exe -m pip install --upgrade pip\n"
          ]
        }
      ],
      "source": [
        "!pip install cython==0.29.19"
      ]
    },
    {
      "cell_type": "code",
      "execution_count": 3,
      "metadata": {
        "id": "QZRYW9UvdcDt"
      },
      "outputs": [
        {
          "name": "stderr",
          "output_type": "stream",
          "text": [
            "\"sudo\" no se reconoce como un comando interno o externo,\n",
            "programa o archivo por lotes ejecutable.\n"
          ]
        }
      ],
      "source": [
        "!sudo apt-get install -y \\\n",
        "    python3-pip \\\n",
        "    build-essential \\\n",
        "    git \\\n",
        "    python3 \\\n",
        "    python3-dev \\\n",
        "    ffmpeg \\\n",
        "    libsdl2-dev \\\n",
        "    libsdl2-image-dev \\\n",
        "    libsdl2-mixer-dev \\\n",
        "    libsdl2-ttf-dev \\\n",
        "    libportmidi-dev \\\n",
        "    libswscale-dev \\\n",
        "    libavformat-dev \\\n",
        "    libavcodec-dev \\\n",
        "    zlib1g-dev"
      ]
    },
    {
      "cell_type": "code",
      "execution_count": 4,
      "metadata": {
        "id": "S9Z7KfTOnXuZ"
      },
      "outputs": [
        {
          "name": "stderr",
          "output_type": "stream",
          "text": [
            "\"sudo\" no se reconoce como un comando interno o externo,\n",
            "programa o archivo por lotes ejecutable.\n"
          ]
        }
      ],
      "source": [
        "!sudo apt-get install -y \\\n",
        "    libgstreamer1.0 \\\n",
        "    gstreamer1.0-plugins-base \\\n",
        "    gstreamer1.0-plugins-good"
      ]
    },
    {
      "cell_type": "code",
      "execution_count": 5,
      "metadata": {
        "id": "Gjp7v6bTnd5V"
      },
      "outputs": [
        {
          "name": "stderr",
          "output_type": "stream",
          "text": [
            "\"sudo\" no se reconoce como un comando interno o externo,\n",
            "programa o archivo por lotes ejecutable.\n"
          ]
        }
      ],
      "source": [
        "!sudo apt-get install build-essential libsqlite3-dev sqlite3 bzip2 libbz2-dev zlib1g-dev libssl-dev openssl libgdbm-dev libgdbm-compat-dev liblzma-dev libreadline-dev libncursesw5-dev libffi-dev uuid-dev libffi6"
      ]
    },
    {
      "cell_type": "code",
      "execution_count": 6,
      "metadata": {
        "id": "DA3BNyuKnrI1"
      },
      "outputs": [
        {
          "name": "stderr",
          "output_type": "stream",
          "text": [
            "\"sudo\" no se reconoce como un comando interno o externo,\n",
            "programa o archivo por lotes ejecutable.\n"
          ]
        }
      ],
      "source": [
        "!sudo apt-get install libffi-dev"
      ]
    },
    {
      "cell_type": "code",
      "execution_count": 11,
      "metadata": {
        "id": "EeTysn9dntOO"
      },
      "outputs": [
        {
          "name": "stdout",
          "output_type": "stream",
          "text": [
            "File buildozer.spec created, ready to customize!\n"
          ]
        }
      ],
      "source": [
        "!buildozer init"
      ]
    },
    {
      "cell_type": "code",
      "execution_count": 15,
      "metadata": {
        "id": "tLbircO10N0a"
      },
      "outputs": [
        {
          "name": "stdout",
          "output_type": "stream",
          "text": [
            "# Check configuration tokens\n",
            "Unknown command/target android\n"
          ]
        }
      ],
      "source": [
        "!buildozer -v android debug"
      ]
    },
    {
      "cell_type": "code",
      "execution_count": 9,
      "metadata": {
        "id": "YZPSi3j4oweu"
      },
      "outputs": [
        {
          "name": "stdout",
          "output_type": "stream",
          "text": [
            "# Check configuration tokens\n",
            "Unknown command/target android\n"
          ]
        }
      ],
      "source": [
        "!buildozer android clean"
      ]
    },
    {
      "cell_type": "code",
      "execution_count": null,
      "metadata": {
        "id": "wyVLXEgJFeqv"
      },
      "outputs": [],
      "source": []
    }
  ],
  "metadata": {
    "colab": {
      "name": "KivyApp to APK.ipynb",
      "provenance": []
    },
    "kernelspec": {
      "display_name": "Python 3",
      "name": "python3"
    },
    "language_info": {
      "codemirror_mode": {
        "name": "ipython",
        "version": 3
      },
      "file_extension": ".py",
      "mimetype": "text/x-python",
      "name": "python",
      "nbconvert_exporter": "python",
      "pygments_lexer": "ipython3",
      "version": "3.10.11"
    }
  },
  "nbformat": 4,
  "nbformat_minor": 0
}
